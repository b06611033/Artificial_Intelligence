{
  "cells": [
    {
      "cell_type": "code",
      "execution_count": 1,
      "metadata": {
        "id": "GxiVIJ7fS1JK"
      },
      "outputs": [],
      "source": [
        "###########################################################################\n",
        "# NODE data structure\n",
        "#\n",
        "# Below are some ideas on how to make the simple example above more general\n",
        "# - use adjacency matrix to define graph, and conduct search on the graph\n",
        "# - each cell in the matrix is the distance\n",
        "# - column -> row connectivity \n",
        "###########################################################################\n",
        "\n",
        "# EXAMPLE search problem\n",
        "\n",
        "# 1. adjacency matrix :\n",
        "MAT = [[0, 14, 13,  20, 10, 0, 0, 0, 0],\n",
        "    [0,  0,  0,  40, 0, 90, 0, 0, 0],\n",
        "    [0, 0, 0, 0, 0, 0, 0, 80, 0],\n",
        "    [0, 0, 0, 0, 0, 0, 25, 23, 0],\n",
        "    [0, 0, 0, 0, 0, 0, 10, 0, 0],\n",
        "    [0, 0, 0, 0, 0, 0, 0, 0, 130],\n",
        "    [0, 0, 0, 0, 0, 0, 0, 52, 0],\n",
        "    [0, 0, 0, 0, 0, 0, 0, 0, 51],\n",
        "    [0, 0, 0, 0, 0, 0, 0, 0, 0]]\n",
        "\n",
        "\n",
        "# 2. heuristic values : \n",
        "H = [23, 22, 10, 41, 14, 21, 9, 31, 0]\n",
        "\n",
        "\n",
        "class Node:\n",
        "\n",
        "  def __init__(self, state):\n",
        "    '''\n",
        "    initialize a node\n",
        "    '''\n",
        "    self.state = state\n",
        "    self.h = H[state]\n",
        "    self.cost = 0\n",
        "    self.path = chr(65 + state)\n",
        "\n",
        "  def move(self, child_state):\n",
        "    '''\n",
        "    make one move to child_state\n",
        "    - returns resulting child node\n",
        "    - do all the book-keeping\n",
        "    '''\n",
        "    edge_cost = MAT[self.state][child_state]\n",
        "    if (edge_cost>0):\n",
        "      child       = Node(child_state)\n",
        "      child.cost = self.cost + edge_cost \n",
        "      child.path  = self.path+\"->\"+chr(65 + child_state)\n",
        "      return child\n",
        "    else:\n",
        "      return []\n",
        "  def expand(self):\n",
        "    '''\n",
        "    expand node and do all the book-keeping\n",
        "    - returns node list\n",
        "    '''\n",
        "    node_list = [ ]\n",
        "\n",
        "    for child_state in range(0,len(H)):\n",
        "       if (MAT[self.state][child_state]>0):\n",
        "         child_node = self.move(child_state)\n",
        "         node_list.extend([child_node]) \n",
        "    return node_list \n",
        "\n",
        "  def print(self):\n",
        "    '''\n",
        "    print out node data structure\n",
        "    '''\n",
        "    print(\"{Node: state=\"+chr(65 + self.state)+\", cost=\"+str(self.cost)+\", h=\"+str(self.h)+\", path=(\"+self.path+\"), f(n)=\"+str(self.cost+self.h)+\"} \",end=\"\")\n",
        "\n",
        "  def print_list(node_list):\n",
        "    '''\n",
        "    print out a node list\n",
        "    '''\n",
        "    print(\"[ \",end=\"\")\n",
        "\n",
        "    for n in node_list:\n",
        "      Node.print(n)\n",
        "      print(\" \",end=\"\")\n",
        "\n",
        "    print(\"]\")\n",
        "  \n",
        "\n"
      ]
    },
    {
      "cell_type": "code",
      "execution_count": 2,
      "metadata": {
        "colab": {
          "base_uri": "https://localhost:8080/"
        },
        "id": "uVSK_S8tC-sv",
        "outputId": "f2a83a75-5455-47b8-b0aa-142024797539"
      },
      "outputs": [
        {
          "name": "stdout",
          "output_type": "stream",
          "text": [
            "[ {Node: state=A, cost=0, h=23, path=(A), f(n)=23}  ]\n",
            "current node popped out is A\n",
            "[ {Node: state=C, cost=13, h=10, path=(A->C), f(n)=23}  {Node: state=E, cost=10, h=14, path=(A->E), f(n)=24}  {Node: state=B, cost=14, h=22, path=(A->B), f(n)=36}  {Node: state=D, cost=20, h=41, path=(A->D), f(n)=61}  ]\n",
            "current node popped out is C\n",
            "[ {Node: state=E, cost=10, h=14, path=(A->E), f(n)=24}  {Node: state=B, cost=14, h=22, path=(A->B), f(n)=36}  {Node: state=H, cost=93, h=31, path=(A->C->H), f(n)=124}  {Node: state=D, cost=20, h=41, path=(A->D), f(n)=61}  ]\n",
            "current node popped out is E\n",
            "[ {Node: state=G, cost=20, h=9, path=(A->E->G), f(n)=29}  {Node: state=B, cost=14, h=22, path=(A->B), f(n)=36}  {Node: state=H, cost=93, h=31, path=(A->C->H), f(n)=124}  {Node: state=D, cost=20, h=41, path=(A->D), f(n)=61}  ]\n",
            "current node popped out is G\n",
            "[ {Node: state=B, cost=14, h=22, path=(A->B), f(n)=36}  {Node: state=H, cost=93, h=31, path=(A->C->H), f(n)=124}  {Node: state=H, cost=72, h=31, path=(A->E->G->H), f(n)=103}  {Node: state=D, cost=20, h=41, path=(A->D), f(n)=61}  ]\n",
            "current node popped out is B\n",
            "[ {Node: state=F, cost=104, h=21, path=(A->B->F), f(n)=125}  {Node: state=H, cost=93, h=31, path=(A->C->H), f(n)=124}  {Node: state=H, cost=72, h=31, path=(A->E->G->H), f(n)=103}  {Node: state=D, cost=20, h=41, path=(A->D), f(n)=61}  {Node: state=D, cost=54, h=41, path=(A->B->D), f(n)=95}  ]\n",
            "current node popped out is F\n",
            "[ {Node: state=I, cost=234, h=0, path=(A->B->F->I), f(n)=234}  {Node: state=H, cost=93, h=31, path=(A->C->H), f(n)=124}  {Node: state=H, cost=72, h=31, path=(A->E->G->H), f(n)=103}  {Node: state=D, cost=20, h=41, path=(A->D), f(n)=61}  {Node: state=D, cost=54, h=41, path=(A->B->D), f(n)=95}  ]\n",
            "current node popped out is I\n",
            "the path of the solution is A->B->F->I\n",
            "the cost of the solution is 234\n"
          ]
        }
      ],
      "source": [
        "from functools import cmp_to_key\n",
        "def compare(n1, n2):\n",
        "  return (n1.h) - (n2.h)\n",
        "    \n",
        "def sort(node_list):\n",
        "  return sorted(node_list, key = cmp_to_key(compare))\n",
        "\n",
        "def mydfs1 (node, target):\n",
        "\n",
        "  # put node in empty nodelist\n",
        "  node_list = [node]\n",
        "\n",
        "  # MAIN LOOP: while node_list is not empty\n",
        "  while (node_list): \n",
        "    # A. visit: pop first node from list\n",
        "    Node.print_list(node_list) \n",
        "    cur_node = node_list.pop(0)\n",
        "    print(\"current node popped out is \" + chr(65 + cur_node.state))\n",
        "    \n",
        "    # B. goal check\n",
        "    if (cur_node.state == target):\n",
        "\n",
        "      # 1 goal found\n",
        "      return cur_node\n",
        "\n",
        "    else:   \n",
        "      # 2 further explore\n",
        "      # 2.1: expand node\n",
        "      expanded = cur_node.expand()\n",
        "      # 2.2: enqueue (change here to change search behavior)\n",
        "\n",
        "      # for dfs: \n",
        "      node_list.extend(expanded)\n",
        "      node_list = sort(node_list)\n",
        "\n",
        "answer = mydfs1(Node(0), 8)\n",
        "print(\"the path of the solution is \" + answer.path)\n",
        "print(\"the cost of the solution is \" + str(answer.cost))"
      ]
    },
    {
      "cell_type": "markdown",
      "metadata": {
        "id": "JehzDyvvFHKk"
      },
      "source": [
        "Problem 9.\n",
        " \n",
        "\n",
        "1. Node list content is as the result of the above program\n",
        "\n",
        "2. Node visit order is the node popped out showed in the result above\n",
        "\n",
        "3. Path of solution is showed as above\n",
        "\n",
        "4. Cost of solution is showed as above\n",
        "\n",
        "*Ignore f(n), it is for problem 10.\n",
        "\n"
      ]
    },
    {
      "cell_type": "code",
      "execution_count": 4,
      "metadata": {
        "colab": {
          "base_uri": "https://localhost:8080/"
        },
        "id": "kD6vyi34hiD7",
        "outputId": "ee3219b7-e9b3-40cb-dbfd-1f5633aeb9b0"
      },
      "outputs": [
        {
          "name": "stdout",
          "output_type": "stream",
          "text": [
            "[ {Node: state=A, cost=0, h=23, path=(A), f(n)=23}  ]\n",
            "current node popped out is A\n",
            "[ {Node: state=C, cost=13, h=10, path=(A->C), f(n)=23}  {Node: state=E, cost=10, h=14, path=(A->E), f(n)=24}  {Node: state=B, cost=14, h=22, path=(A->B), f(n)=36}  {Node: state=D, cost=20, h=41, path=(A->D), f(n)=61}  ]\n",
            "current node popped out is C\n",
            "[ {Node: state=E, cost=10, h=14, path=(A->E), f(n)=24}  {Node: state=B, cost=14, h=22, path=(A->B), f(n)=36}  {Node: state=D, cost=20, h=41, path=(A->D), f(n)=61}  {Node: state=H, cost=93, h=31, path=(A->C->H), f(n)=124}  ]\n",
            "current node popped out is E\n",
            "[ {Node: state=G, cost=20, h=9, path=(A->E->G), f(n)=29}  {Node: state=B, cost=14, h=22, path=(A->B), f(n)=36}  {Node: state=D, cost=20, h=41, path=(A->D), f(n)=61}  {Node: state=H, cost=93, h=31, path=(A->C->H), f(n)=124}  ]\n",
            "current node popped out is G\n",
            "[ {Node: state=B, cost=14, h=22, path=(A->B), f(n)=36}  {Node: state=D, cost=20, h=41, path=(A->D), f(n)=61}  {Node: state=H, cost=72, h=31, path=(A->E->G->H), f(n)=103}  {Node: state=H, cost=93, h=31, path=(A->C->H), f(n)=124}  ]\n",
            "current node popped out is B\n",
            "[ {Node: state=D, cost=20, h=41, path=(A->D), f(n)=61}  {Node: state=D, cost=54, h=41, path=(A->B->D), f(n)=95}  {Node: state=H, cost=72, h=31, path=(A->E->G->H), f(n)=103}  {Node: state=H, cost=93, h=31, path=(A->C->H), f(n)=124}  {Node: state=F, cost=104, h=21, path=(A->B->F), f(n)=125}  ]\n",
            "current node popped out is D\n",
            "[ {Node: state=G, cost=45, h=9, path=(A->D->G), f(n)=54}  {Node: state=H, cost=43, h=31, path=(A->D->H), f(n)=74}  {Node: state=D, cost=54, h=41, path=(A->B->D), f(n)=95}  {Node: state=H, cost=72, h=31, path=(A->E->G->H), f(n)=103}  {Node: state=H, cost=93, h=31, path=(A->C->H), f(n)=124}  {Node: state=F, cost=104, h=21, path=(A->B->F), f(n)=125}  ]\n",
            "current node popped out is G\n",
            "[ {Node: state=H, cost=43, h=31, path=(A->D->H), f(n)=74}  {Node: state=D, cost=54, h=41, path=(A->B->D), f(n)=95}  {Node: state=H, cost=72, h=31, path=(A->E->G->H), f(n)=103}  {Node: state=H, cost=93, h=31, path=(A->C->H), f(n)=124}  {Node: state=F, cost=104, h=21, path=(A->B->F), f(n)=125}  {Node: state=H, cost=97, h=31, path=(A->D->G->H), f(n)=128}  ]\n",
            "current node popped out is H\n",
            "[ {Node: state=I, cost=94, h=0, path=(A->D->H->I), f(n)=94}  {Node: state=D, cost=54, h=41, path=(A->B->D), f(n)=95}  {Node: state=H, cost=72, h=31, path=(A->E->G->H), f(n)=103}  {Node: state=H, cost=93, h=31, path=(A->C->H), f(n)=124}  {Node: state=F, cost=104, h=21, path=(A->B->F), f(n)=125}  {Node: state=H, cost=97, h=31, path=(A->D->G->H), f(n)=128}  ]\n",
            "current node popped out is I\n",
            "the path of the solution is A->D->H->I\n",
            "the cost of the solution is 94\n"
          ]
        }
      ],
      "source": [
        "from functools import cmp_to_key\n",
        "def compare(n1, n2):\n",
        "  return (n1.h + n1.cost) - (n2.h + n2.cost)\n",
        "    \n",
        "def sort(node_list):\n",
        "  return sorted(node_list, key = cmp_to_key(compare))\n",
        "\n",
        "def mydfs2 (node, target):\n",
        "\n",
        "  # put node in empty nodelist\n",
        "  node_list = [node]\n",
        "\n",
        "  # MAIN LOOP: while node_list is not empty\n",
        "  while (node_list): \n",
        "    # A. visit: pop first node from list\n",
        "    Node.print_list(node_list) \n",
        "    cur_node = node_list.pop(0)\n",
        "    print(\"current node popped out is \" + chr(65 + cur_node.state))\n",
        "    \n",
        "    # B. goal check\n",
        "    if (cur_node.state == target):\n",
        "\n",
        "      # 1 goal found\n",
        "      return cur_node\n",
        "\n",
        "    else:   \n",
        "      # 2 further explore\n",
        "      # 2.1: expand node\n",
        "      expanded = cur_node.expand()\n",
        "      # 2.2: enqueue (change here to change search behavior)\n",
        "\n",
        "      # for dfs: \n",
        "      node_list.extend(expanded)\n",
        "      node_list = sort(node_list)\n",
        "\n",
        "answer = mydfs2(Node(0), 8)\n",
        "print(\"the path of the solution is \" + answer.path)\n",
        "print(\"the cost of the solution is \" + str(answer.cost))"
      ]
    },
    {
      "cell_type": "markdown",
      "metadata": {
        "id": "t6pCGfN60_ZP"
      },
      "source": [
        "Problem 10.\n",
        "\n",
        "\n",
        "(1) \n",
        "\n",
        "1. Node list content is as the result of the above program\n",
        "\n",
        "2. Node visit order is the node popped out showed in the result above\n",
        "\n",
        "3. Path of solution showed above\n",
        "\n",
        "4. Cost of solution showed above\n",
        "\n",
        "(2) f(n) of every expanded node is as above, which is the rightmost attribute of every node.\n",
        "\n",
        "(3) A* has lower cost than Greedy best-first"
      ]
    },
    {
      "attachments": {},
      "cell_type": "markdown",
      "metadata": {
        "id": "AsEuG756GSU4"
      },
      "source": [
        "I've finished this programming assignment within 24 hours, so the screenshots span will be less than 24 hours. But I had not copied code from anywhere, and I believe I finished it in a reasonable time span."
      ]
    }
  ],
  "metadata": {
    "colab": {
      "provenance": []
    },
    "kernelspec": {
      "display_name": "Python 3",
      "name": "python3"
    },
    "language_info": {
      "name": "python"
    }
  },
  "nbformat": 4,
  "nbformat_minor": 0
}
